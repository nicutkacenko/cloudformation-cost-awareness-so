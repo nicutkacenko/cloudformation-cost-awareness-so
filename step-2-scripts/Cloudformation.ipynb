{
 "cells": [
  {
   "cell_type": "markdown",
   "id": "a40ad097-4837-45c9-9ae9-b92ec1122320",
   "metadata": {},
   "source": [
    "# Analysis of Stack Overflow CloudFormation Questions "
   ]
  },
  {
   "cell_type": "markdown",
   "id": "a07ded00-546e-4881-be73-a2052b93d999",
   "metadata": {},
   "source": [
    "## Helpers"
   ]
  },
  {
   "cell_type": "markdown",
   "id": "9cf28ab0-87aa-43f3-a074-12be1cd78ae5",
   "metadata": {},
   "source": [
    "### Suppress Warnings"
   ]
  },
  {
   "cell_type": "code",
   "execution_count": null,
   "id": "2b6a7a28-d4b9-41f0-bc0f-ddd18de0e822",
   "metadata": {},
   "outputs": [],
   "source": [
    "import warnings\n",
    "\n",
    "warnings.filterwarnings(\"ignore\")\n",
    "# warnings.resetwarnings()"
   ]
  },
  {
   "cell_type": "markdown",
   "id": "99f75602-f362-49a5-b20f-f9eb4187d0ee",
   "metadata": {},
   "source": [
    "### Post GUI"
   ]
  },
  {
   "cell_type": "code",
   "execution_count": null,
   "id": "7449adab-f2f4-48ab-ad0e-17e89bd4d556",
   "metadata": {},
   "outputs": [],
   "source": [
    "import ipywidgets as widgets\n",
    "from IPython.display import display, HTML, clear_output\n",
    "\n",
    "\n",
    "def generate_filtered_sentences_table(post_data):\n",
    "    def generate_table_recursive(data, location):\n",
    "        filtered_sentences = data.get(\"filtered-sentences\", [])\n",
    "        html_table = \"\"\n",
    "        for sentence in filtered_sentences:\n",
    "            source = location+\":\"+sentence.get(\"source\", \"\")\n",
    "            text = sentence.get(\"text\", \"\")\n",
    "            keywords = \", \".join(sentence.get(\"keywords\", []))\n",
    "            row = f\"<tr><td>{source}</td><td>{text}</td><td>{keywords}</td></tr>\"\n",
    "            html_table += row\n",
    "\n",
    "        if \"comments\" in data:\n",
    "            for comment in data[\"comments\"]:\n",
    "                html_table += generate_table_recursive(comment, location+\">comment\")\n",
    "        if \"history\" in data:\n",
    "            for history_entry in data[\"history\"]:\n",
    "                html_table += generate_table_recursive(history_entry, location+\">history\")\n",
    "        if \"answers\" in data:\n",
    "            for answer in data[\"answers\"]:\n",
    "                html_table += generate_table_recursive(answer, location+\">answer\")\n",
    "\n",
    "        # Close the HTML table for the current data\n",
    "\n",
    "        return html_table\n",
    "\n",
    "    # Call the recursive function to generate the HTML table\n",
    "    html_table = \"<table>\"\n",
    "    html_table += \"<tr><th>Source</th><th>Text</th><th>Keywords</th></tr>\"\n",
    "    html_table += generate_table_recursive(post_data, \"\")\n",
    "    html_table += \"</table>\"\n",
    "\n",
    "    return html_table\n",
    "\n",
    "\n",
    "\n",
    "def display_question(question_post):\n",
    "    global component_outputs\n",
    "    component_outputs[\"Id\"].value = str(question_post.get(\"Id\", \"\"))\n",
    "    component_outputs[\"Title\"].value = str(question_post.get(\"Title\", \"\"))\n",
    "    component_outputs[\"Tags\"].value = str(question_post.get(\"Tags\", \"\"))\n",
    "    component_outputs[\"Body\"].value = question_post.get(\"Body\", \"\")\n",
    "    component_outputs[\"Filtered Sentences\"].value = generate_filtered_sentences_table(question_post)\n",
    "\n",
    "    comments_text = \"\\n-----\\n\".join([comment[\"Text\"].strip() for comment in question_post.get(\"comments\", [])])\n",
    "    component_outputs[\"Comments\"].value = comments_text\n",
    "    \n",
    "    history_text = \"\\n-----\\n\".join([hist.get(\"Text\", hist.get(\"Comment\", \"\")).strip() for hist in question_post.get(\"history\", [])])\n",
    "    component_outputs[\"History\"].value = history_text\n",
    "\n",
    "def go_next(button):\n",
    "    global questions, index\n",
    "    index = index + 1 if index < len(questions) else index\n",
    "    display_question(questions[index])\n",
    "\n",
    "def go_prev(button):\n",
    "    global questions, index\n",
    "    index = index - 1 if index > 0 else 0\n",
    "    display_question(questions[index])\n",
    "\n",
    "def display_gui():\n",
    "    global component_outputs\n",
    "    # Navigation buttons\n",
    "    next_button = widgets.Button(description=\"Next\")\n",
    "    prev_button = widgets.Button(description=\"Previous\")\n",
    "    next_button.on_click(go_next)\n",
    "    prev_button.on_click(go_prev)\n",
    "    next_prev_buttons = widgets.HBox([prev_button, next_button])\n",
    "\n",
    "    toggle_widgets = [\n",
    "        widgets.ToggleButton(value=False, description=\"Body\"),\n",
    "        widgets.ToggleButton(value=False, description=\"Comments\"),\n",
    "        widgets.ToggleButton(value=False, description=\"History\"),\n",
    "        widgets.ToggleButton(value=False, description=\"Filtered Sentences\"),\n",
    "    ]\n",
    "    toggle_buttons = widgets.HBox(toggle_widgets)\n",
    "\n",
    "    component_outputs = {\n",
    "        \"Id\": widgets.Textarea(description=\"Id\", disabled=True, layout={'width': '90%', 'height': '20px'}),\n",
    "        \"Title\": widgets.Textarea(description=\"Title\", disabled=True, layout={'width': '90%', 'height': '20px'}),\n",
    "        \"Tags\": widgets.Textarea(description=\"Tags\", disabled=True, layout={'width': '90%', 'height': '20px'}),\n",
    "        \"Body\": widgets.HTML(description=\"Body\", disabled=True, layout={'width': '90%', 'display': 'none'}),\n",
    "        \"Comments\": widgets.Textarea(description=\"Comments\", disabled=True, layout={'width': '90%', 'display': 'none', 'height': '40px'}),\n",
    "        \"History\": widgets.Textarea(description=\"History\", disabled=True, layout={'width': '90%', 'display': 'none', 'height': '40px'}),\n",
    "        \"Filtered Sentences\": widgets.HTML(description=\"Filtered Sentences\", disabled=True, layout={'width': '90%', 'display': 'none'}),\n",
    "    }\n",
    "\n",
    "    gui = widgets.Output()\n",
    "\n",
    "    @gui.capture()\n",
    "    def toggle_visibility(change):\n",
    "        if change['new']:\n",
    "            component_outputs[change['owner'].description].layout.display = 'block'\n",
    "        else:\n",
    "            component_outputs[change['owner'].description].layout.display = 'none'\n",
    "\n",
    "    for b in toggle_widgets:\n",
    "        # b.on_click(toggle_visibility)\n",
    "        b.observe(toggle_visibility, names='value')\n",
    "    \n",
    "    # Display everything initially\n",
    "    with gui:\n",
    "        display(next_prev_buttons)\n",
    "        display(toggle_buttons)\n",
    "        for d, w in component_outputs.items():\n",
    "            display(w)\n",
    "    display(gui)"
   ]
  },
  {
   "cell_type": "markdown",
   "id": "db40686f-8c7f-45a3-a253-59aaee4bf679",
   "metadata": {
    "editable": true,
    "slideshow": {
     "slide_type": ""
    },
    "tags": []
   },
   "source": [
    "### Bokeh Export"
   ]
  },
  {
   "cell_type": "code",
   "execution_count": null,
   "id": "3fecd65e-7548-47c6-9259-c9dc12be5821",
   "metadata": {},
   "outputs": [],
   "source": [
    "from bokeh.io import export_svgs\n",
    "from reportlab.graphics import renderPDF\n",
    "from selenium import webdriver\n",
    "from selenium.webdriver.firefox.service import Service as FirefoxService\n",
    "from webdriver_manager.firefox import GeckoDriverManager\n",
    "import svglib.svglib as svglib\n",
    "\n",
    "class FirefoxWebdriver(object):\n",
    "    def __new__(cls):\n",
    "        if not hasattr(cls, 'instance'):\n",
    "            cls.instance = super(FirefoxWebdriver, cls).__new__(cls)\n",
    "\n",
    "            opts = webdriver.FirefoxOptions()\n",
    "            opts.add_argument(\"--headless\")\n",
    "            cls.driver = webdriver.Firefox(service=FirefoxService(GeckoDriverManager().install()), options=opts)\n",
    "            \n",
    "        return cls.instance\n",
    "\n",
    "def export_pdf(bokeh_plot, filename):\n",
    "    bokeh_plot.output_backend = \"svg\"\n",
    "    filename = re.sub(r'\\.pdf$','',filename)\n",
    "    svg_name = filename+'.svg'\n",
    "    pdf_name = filename+'.pdf'\n",
    "    \n",
    "    export_svgs(bokeh_plot, filename=svg_name, webdriver=FirefoxWebdriver().driver)\n",
    "    svg = svglib.svg2rlg(svg_name)\n",
    "    renderPDF.drawToFile(svg, pdf_name)\n",
    "    os.remove(svg_name)"
   ]
  },
  {
   "cell_type": "markdown",
   "id": "e0620f2b-dac1-41d2-bedb-ee4e2394175f",
   "metadata": {},
   "source": [
    "### Question Filtering"
   ]
  },
  {
   "cell_type": "code",
   "execution_count": null,
   "id": "6668cd0c-23b3-4276-8dce-cca073b6f480",
   "metadata": {},
   "outputs": [],
   "source": [
    "import os\n",
    "import json\n",
    "\n",
    "def post_content(post):\n",
    "    return {\n",
    "        \"body\" : post[\"Body\"],\n",
    "        \"title\" : post[\"Title\"],\n",
    "        \"comments\" : \" | \".join([i[\"Text\"] for i in post.get(\"comments\", [])]),\n",
    "        \"answers\" : \" | \".join([i[\"Body\"] for i in post.get(\"answers\", [])]),\n",
    "        \"answers_comments\" : \" | \".join([i[\"Text\"] for p in post.get(\"answers\", []) for i in p.get(\"comments\", []) ]),\n",
    "        \"history\" : \" | \".join([i.get(\"Text\",\"\") + \" \" + i.get(\"Comment\",\"\") for i in post.get(\"history\", [])]),\n",
    "    }\n",
    "\n",
    "\n",
    "def filter_posts_with(post_dir, filter_func):\n",
    "    for fn in os.listdir(post_dir):\n",
    "        if fn.startswith(\"post-\") and fn.endswith(\".json\"):\n",
    "            with open(os.path.join(post_dir, fn), 'r') as f:\n",
    "                post = json.load(f)\n",
    "                content = post_content(post)\n",
    "                for location, text in content.items():\n",
    "                    if filter_func(text):\n",
    "                        yield (post,location)\n",
    "                        break\n",
    "\n",
    "\n",
    "def filter_posts_with_strings(post_dir, strs):\n",
    "    yield from filter_posts_with(post_dir, lambda x: any(s in x for s in strs))\n",
    "\n",
    "\n",
    "def filter_posts_with_patterns(post_dir, pattern_list):\n",
    "    patterns = [re.compile(p) for p in pattern_list]\n",
    "    yield from filter_posts_with(post_dir, lambda x: any(p.search(x) for p in patterns))"
   ]
  },
  {
   "cell_type": "markdown",
   "id": "470edbb1-1e6f-4278-99da-893ea75cb538",
   "metadata": {},
   "source": [
    "### Keyword Search in Sentences"
   ]
  },
  {
   "cell_type": "code",
   "execution_count": null,
   "id": "f8b5f978-2960-4b2d-aa1f-5d1cfe2c352d",
   "metadata": {},
   "outputs": [],
   "source": [
    "# Consider using ONNX if you have the hardware\n",
    "# !pip install onnxruntime-gpu # GPUs with CUDA\n",
    "# !pip install onnxruntime-silicon # Apple M1/M2"
   ]
  },
  {
   "cell_type": "code",
   "execution_count": null,
   "id": "d99677ff-e154-4ef4-a009-de6143b54084",
   "metadata": {},
   "outputs": [],
   "source": [
    "from bs4 import BeautifulSoup\n",
    "from wtpsplit import WtP\n",
    "\n",
    "# SENTER = WtP(\"wtp-bert-mini\") # CPU\n",
    "SENTER = WtP(\"wtp-bert-mini\", ort_providers=[\"CUDAExecutionProvider\"]) # GPU with CUDA\n",
    "# SENTER = WtP(\"wtp-bert-mini\", ort_providers=[\"CoreMLExecutionProvider\"]) # Apple M1/M2\n",
    "\n",
    "\n",
    "def htmlbody_to_text(html_string):\n",
    "    # Parse the HTML using BeautifulSoup\n",
    "    soup = BeautifulSoup(html_string, 'html.parser')\n",
    "\n",
    "    # Remove code blocks\n",
    "    for code_block in soup.find_all(['pre']):\n",
    "        code_block.extract()\n",
    "\n",
    "    # Extract text from links and replace them in the soup with their text content\n",
    "    for link_tag in soup.find_all('a'):\n",
    "        link_tag.string = link_tag.get_text()\n",
    "\n",
    "    # Get the text from the modified soup\n",
    "    text = soup.get_text()\n",
    "\n",
    "    # Remove extra whitespace and return the cleaned text\n",
    "    return ' '.join(text.split()).strip()\n",
    "\n",
    "\n",
    "def split_sentences(text):\n",
    "    yield from SENTER.split(text, lang_code=\"en\", style='ersatz')\n",
    "\n",
    "\n",
    "def find_keywords(texts, pattern_dict):\n",
    "    for t in texts:\n",
    "        kws = [n for n,p in pattern_dict.items() if p.search(t)]\n",
    "        if kws:\n",
    "            yield {'text': t, 'keywords': kws}"
   ]
  },
  {
   "cell_type": "markdown",
   "id": "f1605530-52b9-41bd-b50c-1db61b627f18",
   "metadata": {},
   "source": [
    "## Analysis"
   ]
  },
  {
   "cell_type": "code",
   "execution_count": null,
   "id": "737f79f8-6671-44c2-a10a-36f559e61980",
   "metadata": {},
   "outputs": [],
   "source": [
    "step1output_dir = \"../step-1-output/\"\n",
    "step1questions_dir = step1output_dir+\"questions/\"\n",
    "\n",
    "step2output_dir = \"../step-2-output/\"\n",
    "step2questions_dir = step2output_dir+\"questions/\"\n",
    "os.makedirs(step2questions_dir, exist_ok=True)"
   ]
  },
  {
   "cell_type": "markdown",
   "id": "5fd50303-c013-4d5b-a06a-6fd719deaadb",
   "metadata": {},
   "source": [
    "### Filter Cost-Related Questions"
   ]
  },
  {
   "cell_type": "markdown",
   "id": "952b4dd1-dc94-4950-a355-0abeb30ea88a",
   "metadata": {},
   "source": [
    "Filter questions that contain one of the cost-related keywords"
   ]
  },
  {
   "cell_type": "code",
   "execution_count": null,
   "id": "7c79f06c-924e-4e7f-99be-a54d08e7baae",
   "metadata": {},
   "outputs": [],
   "source": [
    "import re\n",
    "\n",
    "cost_patterns = {i[0]: re.compile(i[1]) for i in [\n",
    "        (\"bill\", r\"\\bb[iI][lL][lL]\\w*\\b\"),\n",
    "        (\"cheap\", r\"\\b[cC][hH][eE][aA][pP]\\w*\\b\"),\n",
    "        (\"cost\", r\"\\b[cC][oO][sS][tT]\\b\"),\n",
    "        (\"efficient\", r\"\\b[eE][fF][fF][iI][cC][iI][eE][nN][tT]\\b\"),\n",
    "        (\"expense\", r\"\\b[eE][xX][pP][eE][nN][sS]\\w*\\b\"),\n",
    "        (\"pay\", r\"\\b[pP][aA][yY]\\b\"),\n",
    "]}"
   ]
  },
  {
   "cell_type": "code",
   "execution_count": null,
   "id": "a21dc86b-e62d-4cb3-8c4d-c4efd74c0c56",
   "metadata": {},
   "outputs": [],
   "source": [
    "questions = [p[0] for p in filter_posts_with_patterns(step1questions_dir, cost_patterns.values())]\n",
    "# questions = [p[0] for p in filter_posts_with_strings(step1questions_dir, cost_patterns.keys())]"
   ]
  },
  {
   "cell_type": "markdown",
   "id": "f3c73b2c-ab0d-43c6-8dca-308cf75aec09",
   "metadata": {},
   "source": [
    "### Enrich Questions with Topic-Related Insights "
   ]
  },
  {
   "cell_type": "markdown",
   "id": "d686bdea-da01-478e-94d1-2c0aca5f753d",
   "metadata": {},
   "source": [
    "Flag questions as containing topics or not"
   ]
  },
  {
   "cell_type": "code",
   "execution_count": null,
   "id": "830ff1c8-5524-45fa-a649-2dd9308a63d2",
   "metadata": {},
   "outputs": [],
   "source": [
    "import re\n",
    "\n",
    "topic_patterns = {i[0]: re.compile(i[1], re.IGNORECASE) for i in [\n",
    "        (\"networking\", r\"\\bnetworking\\b\"), (\"nat\", r\"\\bnat\\b\"), (\"vpn\", r\"\\bvpn\\b\"), \n",
    "        (\"instance\", r\"\\binstance\\b\"), (\"storage\", r\"\\bstorage\\b\"), (\"cpu\", r\"\\bcpu\\b\"), (\"ram\", r\"\\bram\\b\"),\n",
    "        (\"domain\", r\"\\bdomain\\b\"), (\"area\", r\"\\barea\\b\"), (\"provider\", r\"\\bprovider\\b\"),\n",
    "        (\"feature\", r\"\\bfeature\\b\"), (\"billing mode\", r\"\\bmode\\b\"), (\"policy\", r\"\\bpolicy\\b\"), \n",
    "        (\"cluster\", r\"\\bcluster\\b\"), (\"change\", r\"\\bchang\\w+\\b\"), (\"test\", r\"\\btest\\w*\\b\"),\n",
    "]}"
   ]
  },
  {
   "cell_type": "code",
   "execution_count": null,
   "id": "d303bd24-c6b9-478d-8e4c-9dfed60962fe",
   "metadata": {},
   "outputs": [],
   "source": [
    "for q in questions:\n",
    "    q['contains-topic'] = any(kw.search(\" \".join(post_content(q).values())) for kw in topic_patterns.values())\n",
    "    # q['contains-topic'] = any(kw in \" \".join(post_content(q).values()).lower() for kw in topic_patterns.keys())]\n",
    "\n",
    "print(len(questions), \"|\", \n",
    "      len([q for q in questions if q['contains-topic']]), \n",
    "      len([q for q in questions if not q['contains-topic']]))"
   ]
  },
  {
   "cell_type": "markdown",
   "id": "dec1e43d-bd28-4749-af2c-8e61a9d23e0d",
   "metadata": {},
   "source": [
    "Highlight sentences that contain keywords.\n",
    "\n",
    "They are added to **'filtered-sentences'** in the object where they are found, e.g.,:\n",
    "- question post (if in **'Title'** or **'Body'**)\n",
    "- answer post (if in the answer's **'Title'** or **'Body'**)\n",
    "- comment (of either question or answer)\n",
    "- history entry (of either question or answer)\n"
   ]
  },
  {
   "cell_type": "code",
   "execution_count": null,
   "id": "8c3d1eee-358b-4e90-86be-64a4f02f6b67",
   "metadata": {},
   "outputs": [],
   "source": [
    "%%time\n",
    "all_patterns = {**cost_patterns, **topic_patterns}\n",
    "\n",
    "def process_post_items(item, fields):\n",
    "    try:\n",
    "        item['filtered-sentences'] = [\n",
    "            {'source': f, **res} for f in fields if item.get(f) and htmlbody_to_text(item[f])\n",
    "                                    for res in find_keywords(split_sentences(htmlbody_to_text(item[f])), all_patterns)\n",
    "        ]\n",
    "    except Exception as e:\n",
    "        for f in fields:\n",
    "            if item.get(f):\n",
    "                print(f, item[f], htmlbody_to_text(item[f]))\n",
    "        raise e\n",
    "\n",
    "def process_post(post):\n",
    "    try:\n",
    "        process_post_items(post, ['Title', 'Body'])\n",
    "        for c in post.get(\"comments\", []):\n",
    "            process_post_items(c, ['Text'])\n",
    "        for h in post.get(\"history\", []):\n",
    "            process_post_items(h, ['Text', 'Comment'])\n",
    "        for a in post.get(\"answers\", []):\n",
    "            process_post(a)\n",
    "    except Exception as e:\n",
    "        print(e)\n",
    "        \n",
    "for q in questions:\n",
    "    process_post(q)"
   ]
  },
  {
   "cell_type": "markdown",
   "id": "9986b9e0-3942-4674-8917-8c76c3bc2ea4",
   "metadata": {},
   "source": [
    "### Save Data"
   ]
  },
  {
   "cell_type": "code",
   "execution_count": null,
   "id": "2d09f2f6-db95-42ee-b720-344377143629",
   "metadata": {},
   "outputs": [],
   "source": [
    "for q in questions:\n",
    "    filename = f'post-{q[\"Id\"]}.json'\n",
    "    with open(os.path.join(step2questions_dir, filename), 'w') as f:\n",
    "        json.dump(q, f)"
   ]
  },
  {
   "cell_type": "markdown",
   "id": "a57bc98e-1ded-417d-ab73-152524db1c4c",
   "metadata": {},
   "source": [
    "### Explore Questions"
   ]
  },
  {
   "cell_type": "markdown",
   "id": "c58640c9-fd5c-4514-9a4a-4f1979c0a29a",
   "metadata": {},
   "source": [
    "Load questions (if resuming work)"
   ]
  },
  {
   "cell_type": "code",
   "execution_count": null,
   "id": "8e74413d-8f0c-41af-ac31-e36919f6374d",
   "metadata": {},
   "outputs": [],
   "source": [
    "import os\n",
    "import json\n",
    "step2output_dir = \"../step-2-output/\"\n",
    "step2questions_dir = step2output_dir+\"questions/\"\n",
    "questions = []\n",
    "for fn in os.listdir(step2questions_dir):\n",
    "    if fn.startswith(\"post-\") and fn.endswith(\".json\"):\n",
    "        with open(os.path.join(step2questions_dir, fn), 'r') as f:\n",
    "            questions.append(json.load(f))"
   ]
  },
  {
   "cell_type": "markdown",
   "id": "f597902b-f990-42a1-a534-e14132b0fe93",
   "metadata": {},
   "source": [
    "Display questions"
   ]
  },
  {
   "cell_type": "code",
   "execution_count": null,
   "id": "85a08aff-87d4-432a-9bc9-c3b0efbad7a8",
   "metadata": {},
   "outputs": [],
   "source": [
    "index = 0\n",
    "display_gui()\n",
    "display_question(questions[index])"
   ]
  },
  {
   "cell_type": "markdown",
   "id": "59a08011-c5c7-44a4-8186-916fbf2b40b0",
   "metadata": {},
   "source": [
    "### Distribution of Topic Words"
   ]
  },
  {
   "cell_type": "code",
   "execution_count": null,
   "id": "02c68959-986c-4d66-a274-dec61da2c342",
   "metadata": {},
   "outputs": [],
   "source": [
    "step2output_dir = \"../step-2-output/\""
   ]
  },
  {
   "cell_type": "code",
   "execution_count": null,
   "id": "190c51e0-bc51-417e-a1ef-2d6cad26edbc",
   "metadata": {},
   "outputs": [],
   "source": [
    "import math\n",
    "from bokeh.io import output_notebook\n",
    "from bokeh.models import ColumnDataSource\n",
    "from bokeh.plotting import figure, show\n",
    "from bokeh.transform import dodge\n",
    "output_notebook()"
   ]
  },
  {
   "cell_type": "code",
   "execution_count": null,
   "id": "67c165f5-a498-4490-a0e5-cd8a1783e60a",
   "metadata": {},
   "outputs": [],
   "source": [
    "p_kws = list(topic_patterns.keys())\n",
    "p_questions = [len([q['Id'] for q in questions if kw.search(\" \".join(post_content(q).values()))]) for kw in topic_patterns.values()]\n",
    "p_questions, p_kws = zip(*sorted(zip(p_questions, p_kws),reverse=True))\n",
    "\n",
    "chart_source = ColumnDataSource(data={'kws':p_kws, '#questions':p_questions})\n",
    "\n",
    "p = figure(x_range=p_kws, y_range=(0, 300), #title=\"Data distribution\",\n",
    "           height=350, width=600, toolbar_location=None, tools='')\n",
    "\n",
    "p.vbar(x=dodge('kws',  0,   range=p.x_range), top='#questions', source=chart_source,\n",
    "       width=0.2, color=\"#abc3c9\", legend_label=\"number of distinct cost-related questions\")\n",
    "\n",
    "p.x_range.range_padding = 0.1\n",
    "p.xgrid.grid_line_color = None\n",
    "p.xaxis.major_label_orientation = math.pi/4\n",
    "p.xaxis.major_label_text_font_size = '14px'\n",
    "p.yaxis.major_label_text_font_size = '14px'\n",
    "p.legend.location = \"top_right\"\n",
    "p.legend.orientation = \"vertical\"\n",
    "\n",
    "show(p)\n",
    "export_pdf(p, step2output_dir+'so-questions-concepts')"
   ]
  }
 ],
 "metadata": {
  "kernelspec": {
   "display_name": "Python 3 (ipykernel)",
   "language": "python",
   "name": "python3"
  },
  "language_info": {
   "codemirror_mode": {
    "name": "ipython",
    "version": 3
   },
   "file_extension": ".py",
   "mimetype": "text/x-python",
   "name": "python",
   "nbconvert_exporter": "python",
   "pygments_lexer": "ipython3",
   "version": "3.9.13"
  }
 },
 "nbformat": 4,
 "nbformat_minor": 5
}
